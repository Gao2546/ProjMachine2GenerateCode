{
 "cells": [
  {
   "cell_type": "code",
   "execution_count": 1,
   "metadata": {},
   "outputs": [
    {
     "name": "stderr",
     "output_type": "stream",
     "text": [
      "/tmp/ipykernel_73121/242889608.py:7: DeprecationWarning: \n",
      "Pyarrow will become a required dependency of pandas in the next major release of pandas (pandas 3.0),\n",
      "(to allow more performant data types, such as the Arrow string type, and better interoperability with other libraries)\n",
      "but was not found to be installed on your system.\n",
      "If this would cause problems for you,\n",
      "please provide us feedback at https://github.com/pandas-dev/pandas/issues/54466\n",
      "        \n",
      "  import pandas as pd\n"
     ]
    }
   ],
   "source": [
    "import torch\n",
    "import torch.nn as nn\n",
    "import torch.optim as optim\n",
    "import torch.utils.data as data\n",
    "import math\n",
    "import copy\n",
    "import pandas as pd\n",
    "import pickle\n",
    "from matplotlib import pyplot as plt\n",
    "import re\n",
    "import os\n",
    "import sys\n",
    "import csv\n",
    "from sklearn.preprocessing import StandardScaler\n",
    "from sklearn.decomposition import PCA"
   ]
  },
  {
   "cell_type": "code",
   "execution_count": 2,
   "metadata": {},
   "outputs": [],
   "source": [
    "file_list = os.listdir(path='../data')\n",
    "file_list_sort = []\n",
    "for i_i in range(int(len(file_list)/2)):\n",
    "    for i_j in range(len(file_list)):\n",
    "        if (file_list[i_j].split('_')[0] == 'answers') and (file_list[i_j]).split('_')[4] == str(i_i) + \".pickle\":\n",
    "            file_list_sort.append(file_list[i_j])\n",
    "for i_i in range(int(len(file_list)/2)):\n",
    "    for i_j in range(len(file_list)):\n",
    "        if (file_list[i_j].split('_')[0] == 'questions') and (file_list[i_j]).split('_')[4] == str(i_i) + \".pickle\":\n",
    "            file_list_sort.append(file_list[i_j])"
   ]
  },
  {
   "cell_type": "code",
   "execution_count": 3,
   "metadata": {},
   "outputs": [
    {
     "data": {
      "text/plain": [
       "['answers_data_python_stackoverflow_0.pickle',\n",
       " 'answers_data_python_stackoverflow_1.pickle',\n",
       " 'answers_data_python_stackoverflow_2.pickle',\n",
       " 'answers_data_python_stackoverflow_3.pickle',\n",
       " 'answers_data_python_stackoverflow_4.pickle',\n",
       " 'answers_data_python_stackoverflow_5.pickle',\n",
       " 'answers_data_python_stackoverflow_6.pickle',\n",
       " 'answers_data_python_stackoverflow_7.pickle',\n",
       " 'answers_data_python_stackoverflow_8.pickle',\n",
       " 'answers_data_python_stackoverflow_9.pickle',\n",
       " 'answers_data_python_stackoverflow_10.pickle',\n",
       " 'answers_data_python_stackoverflow_11.pickle',\n",
       " 'answers_data_python_stackoverflow_12.pickle',\n",
       " 'answers_data_python_stackoverflow_13.pickle',\n",
       " 'answers_data_python_stackoverflow_14.pickle',\n",
       " 'answers_data_python_stackoverflow_15.pickle',\n",
       " 'answers_data_python_stackoverflow_16.pickle',\n",
       " 'answers_data_python_stackoverflow_17.pickle',\n",
       " 'answers_data_python_stackoverflow_18.pickle',\n",
       " 'answers_data_python_stackoverflow_19.pickle',\n",
       " 'questions_data_python_stackoverflow_0.pickle',\n",
       " 'questions_data_python_stackoverflow_1.pickle',\n",
       " 'questions_data_python_stackoverflow_2.pickle',\n",
       " 'questions_data_python_stackoverflow_3.pickle',\n",
       " 'questions_data_python_stackoverflow_4.pickle',\n",
       " 'questions_data_python_stackoverflow_5.pickle',\n",
       " 'questions_data_python_stackoverflow_6.pickle',\n",
       " 'questions_data_python_stackoverflow_7.pickle',\n",
       " 'questions_data_python_stackoverflow_8.pickle',\n",
       " 'questions_data_python_stackoverflow_9.pickle',\n",
       " 'questions_data_python_stackoverflow_10.pickle',\n",
       " 'questions_data_python_stackoverflow_11.pickle',\n",
       " 'questions_data_python_stackoverflow_12.pickle',\n",
       " 'questions_data_python_stackoverflow_13.pickle',\n",
       " 'questions_data_python_stackoverflow_14.pickle',\n",
       " 'questions_data_python_stackoverflow_15.pickle',\n",
       " 'questions_data_python_stackoverflow_16.pickle',\n",
       " 'questions_data_python_stackoverflow_17.pickle',\n",
       " 'questions_data_python_stackoverflow_18.pickle',\n",
       " 'questions_data_python_stackoverflow_19.pickle']"
      ]
     },
     "execution_count": 3,
     "metadata": {},
     "output_type": "execute_result"
    }
   ],
   "source": [
    "file_list_sort"
   ]
  },
  {
   "cell_type": "code",
   "execution_count": 4,
   "metadata": {},
   "outputs": [
    {
     "name": "stdout",
     "output_type": "stream",
     "text": [
      "**************************************************\n",
      "1\n",
      "**************************************************\n",
      "2\n",
      "**************************************************\n",
      "3\n",
      "**************************************************\n",
      "4\n",
      "**************************************************\n",
      "5\n",
      "**************************************************\n",
      "6\n",
      "**************************************************\n",
      "7\n",
      "**************************************************\n",
      "8\n",
      "**************************************************\n",
      "9\n",
      "**************************************************\n",
      "10\n",
      "**************************************************\n",
      "11\n",
      "**************************************************\n",
      "12\n",
      "**************************************************\n",
      "13\n",
      "**************************************************\n",
      "14\n",
      "**************************************************\n",
      "15\n",
      "**************************************************\n",
      "16\n",
      "**************************************************\n",
      "17\n",
      "**************************************************\n",
      "18\n",
      "**************************************************\n",
      "19\n",
      "**************************************************\n",
      "20\n"
     ]
    }
   ],
   "source": [
    "files_200000_questions = []\n",
    "questions_answers_200000 = []\n",
    "c = 0\n",
    "for file_number in range(int(len(file_list_sort)/2)):\n",
    "    with open(f\"../data/{file_list_sort[file_number]}\",'rb') as f:\n",
    "        answer = pickle.load(f)\n",
    "    with open(f\"../data/{file_list_sort[file_number+20]}\",'rb') as f:\n",
    "        question = pickle.load(f)\n",
    "    [answer.remove(None) for _ in range(len(answer)-8)]\n",
    "    [question.remove(None) for _ in range(len(question)-8)]\n",
    "    for T in range(len(answer)):\n",
    "        for a_q in range(len(answer[T])):\n",
    "            a_q_new = answer[T][a_q].copy()\n",
    "            count = 0\n",
    "            for m_q in range(len(answer[T][a_q])):\n",
    "                if (len(answer[T][a_q][m_q]) < 20) or (len(re.findall(\".+\\n\",answer[T][a_q][m_q])) == 0):\n",
    "                    # print(answer[T][a_q][m_q])\n",
    "                    a_q_new.remove(answer[T][a_q][m_q])\n",
    "                    count -= 1\n",
    "                elif answer[T][a_q][m_q][:3] == \">>>\":\n",
    "                    rex_code = re.findall(\">>> .+\\n|\\... .+\\n\",answer[T][a_q][m_q])\n",
    "                    a_q_new[m_q+count] = \"\".join([i.replace(\"... \",\"\") for i in [i.replace(\">>> \",\"\") for i in rex_code]]).strip(\"\\n\")\n",
    "                    questions_answers_200000.append([question[T][a_q],a_q_new[m_q+count]])\n",
    "                elif len(re.findall(\"\\n>>>\",answer[T][a_q][m_q])) > 0:\n",
    "                    rex_code = answer[T][a_q][m_q]\n",
    "                    rex_code = rex_code.replace(\">>> \",\"\")\n",
    "                    rex_code_ = re.findall(\"\\n<.*>\\n|\\n\\[.*\\]\\n|\\n{.*}\\n|\\n<.*>|\\n\\[.*\\]|\\n{.*}\",rex_code)\n",
    "                    for i in rex_code_:\n",
    "                        rex_code = rex_code.replace(i[1:],\"\",1)\n",
    "                    a_q_new[m_q+count] = rex_code.strip(\"\\n\")\n",
    "                    questions_answers_200000.append([question[T][a_q],a_q_new[m_q+count]])\n",
    "                elif answer[T][a_q][m_q][:1] == \"> \":\n",
    "                    rex_code = answer[T][a_q][m_q].replace(\"> \",\"\")\n",
    "                    rex_code_ = re.findall(\"\\n<.*>\\n|\\n\\[.*\\]\\n|\\n{.*}\\n|\\n<.*>|\\n\\[.*\\]|\\n{.*}\",rex_code)\n",
    "                    for i in rex_code_:\n",
    "                        rex_code = rex_code.replace(i[1:],\"\",1)\n",
    "                    a_q_new[m_q+count] = rex_code.strip(\"\\n\")\n",
    "                    questions_answers_200000.append([question[T][a_q],a_q_new[m_q+count]])\n",
    "                elif answer[T][a_q][m_q][:2] == \"-> \":\n",
    "                    rex_code = answer[T][a_q][m_q].replace(\"-> \",\"\")\n",
    "                    rex_code_ = re.findall(\"\\n<.*>\\n|\\n\\[.*\\]\\n|\\n{.*}\\n|\\n<.*>|\\n\\[.*\\]|\\n{.*}\",rex_code)\n",
    "                    for i in rex_code_:\n",
    "                        rex_code = rex_code.replace(i[1:],\"\",1)\n",
    "                    a_q_new[m_q+count] = rex_code.strip(\"\\n\")\n",
    "                    questions_answers_200000.append([question[T][a_q],a_q_new[m_q+count]])\n",
    "\n",
    "                elif len(re.findall(\"\\n>\",answer[T][a_q][m_q])) > 0:\n",
    "                    rex_code = answer[T][a_q][m_q].replace(\"> \",\"\")\n",
    "                    rex_code_ = re.findall(\"\\n<.*>\\n|\\n\\[.*\\]\\n|\\n{.*}\\n|\\n<.*>|\\n\\[.*\\]|\\n{.*}\",rex_code)\n",
    "                    for i in rex_code_:\n",
    "                        rex_code = rex_code.replace(i[1:],\"\",1)\n",
    "                    a_q_new[m_q+count] = rex_code.strip(\"\\n\")\n",
    "                    questions_answers_200000.append([question[T][a_q],a_q_new[m_q+count]])\n",
    "                elif len(re.findall(\"\\n->\",answer[T][a_q][m_q])) > 0:\n",
    "                    rex_code = answer[T][a_q][m_q].replace(\"-> \",\"\")\n",
    "                    rex_code_ = re.findall(\"\\n<.*>\\n|\\n\\[.*\\]\\n|\\n{.*}\\n|\\n<.*>|\\n\\[.*\\]|\\n{.*}\",rex_code)\n",
    "                    for i in rex_code_:\n",
    "                        rex_code = rex_code.replace(i[1:],\"\",1)\n",
    "                    a_q_new[m_q+count] = rex_code.strip(\"\\n\")\n",
    "                    questions_answers_200000.append([question[T][a_q],a_q_new[m_q+count]])\n",
    "\n",
    "                else:\n",
    "                    rex_code = answer[T][a_q][m_q]\n",
    "                    rex_code_ = re.findall(\"\\n<.*>\\n|\\n\\[.*\\]\\n|\\n{.*}\\n|\\n<.*>|\\n\\[.*\\]|\\n{.*}\",rex_code)\n",
    "                    for i in rex_code_:\n",
    "                        rex_code = rex_code.replace(i[1:],\"\",1)\n",
    "                    a_q_new[m_q+count] = rex_code.strip(\"\\n\")\n",
    "                    questions_answers_200000.append([question[T][a_q],a_q_new[m_q+count]])\n",
    "            answer[T][a_q] = a_q_new\n",
    "\n",
    "    files_200000_questions.append(answer.copy())\n",
    "    c += 1\n",
    "    print(\"*\"*50)\n",
    "    print(c)\n",
    "                    \n",
    "                    "
   ]
  },
  {
   "cell_type": "code",
   "execution_count": 5,
   "metadata": {},
   "outputs": [
    {
     "data": {
      "text/plain": [
       "585839"
      ]
     },
     "execution_count": 5,
     "metadata": {},
     "output_type": "execute_result"
    }
   ],
   "source": [
    "len(questions_answers_200000)"
   ]
  },
  {
   "cell_type": "code",
   "execution_count": 6,
   "metadata": {},
   "outputs": [
    {
     "data": {
      "text/plain": [
       "['What does the \"yield\" keyword do in Python?',\n",
       " '# return a list                  #  # return a generator\\ndef makeRange(n):                #  def makeRange(n):\\n    \"\"\"return [0,1,2,...,n-1]\"\"\" #      \"\"\"return 0,1,2,...,n-1\"\"\"\\n    TO_RETURN = []               # \\n    i = 0                        #      i = 0\\n    while i < n:                 #      while i < n:\\n        TO_RETURN += [i]         #          yield i\\n        i += 1                   #          i += 1\\n    return TO_RETURN             # \\n\\nmakeRange(5)']"
      ]
     },
     "execution_count": 6,
     "metadata": {},
     "output_type": "execute_result"
    }
   ],
   "source": [
    "questions_answers_200000[17]"
   ]
  },
  {
   "cell_type": "code",
   "execution_count": 7,
   "metadata": {},
   "outputs": [],
   "source": [
    "with open(\"question_answer_stackoverflow_python_sort_by_score_top_200000_questions_997579_answers.csv\",'w') as f:\n",
    "    writer = csv.writer(f)\n",
    "    writer.writerow([\"questions\",\"answers\"])\n",
    "    writer.writerows(questions_answers_200000)"
   ]
  },
  {
   "cell_type": "code",
   "execution_count": 8,
   "metadata": {},
   "outputs": [],
   "source": [
    "questions_answers_200000 = None\n",
    "answer = None\n",
    "question = None"
   ]
  },
  {
   "cell_type": "code",
   "execution_count": null,
   "metadata": {},
   "outputs": [],
   "source": []
  }
 ],
 "metadata": {
  "kernelspec": {
   "display_name": "pytorch",
   "language": "python",
   "name": "python3"
  },
  "language_info": {
   "codemirror_mode": {
    "name": "ipython",
    "version": 3
   },
   "file_extension": ".py",
   "mimetype": "text/x-python",
   "name": "python",
   "nbconvert_exporter": "python",
   "pygments_lexer": "ipython3",
   "version": "3.10.12"
  }
 },
 "nbformat": 4,
 "nbformat_minor": 2
}
