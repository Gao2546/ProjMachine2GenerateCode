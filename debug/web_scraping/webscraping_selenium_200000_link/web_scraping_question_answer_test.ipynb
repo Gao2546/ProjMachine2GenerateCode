{
 "cells": [
  {
   "cell_type": "code",
   "execution_count": 1,
   "metadata": {},
   "outputs": [],
   "source": [
    "from bs4 import BeautifulSoup\n",
    "from urllib.request import urlopen\n",
    "import requests\n",
    "import csv\n",
    "import time\n",
    "import re\n",
    "import urllib\n",
    "import json\n",
    "import numpy as np\n",
    "import threading\n",
    "from tqdm import tqdm\n",
    "import pickle\n",
    "import cloudscraper\n",
    "from selenium import webdriver \n",
    "from selenium.webdriver.chrome.service import Service as ChromeService \n",
    "from webdriver_manager.chrome import ChromeDriverManager \n",
    "from selenium.webdriver.common.by import By\n",
    "from selenium_stealth import stealth"
   ]
  },
  {
   "cell_type": "code",
   "execution_count": 3,
   "metadata": {},
   "outputs": [],
   "source": [
    "with open(f\"../use_link_load_data_0_1000000/link_data_stack_overflow_python_0_200000.pickle\", \"rb\") as f:\n",
    "    save_link = pickle.load(f)"
   ]
  },
  {
   "cell_type": "code",
   "execution_count": 4,
   "metadata": {},
   "outputs": [
    {
     "ename": "TypeError",
     "evalue": "ufunc 'floor_divide' not supported for the input types, and the inputs could not be safely coerced to any supported types according to the casting rule ''safe''",
     "output_type": "error",
     "traceback": [
      "\u001b[0;31m---------------------------------------------------------------------------\u001b[0m",
      "\u001b[0;31mTypeError\u001b[0m                                 Traceback (most recent call last)",
      "Cell \u001b[0;32mIn[4], line 5\u001b[0m\n\u001b[1;32m      3\u001b[0m per_vm \u001b[38;5;241m=\u001b[39m \u001b[38;5;241m16\u001b[39m\n\u001b[1;32m      4\u001b[0m vm_number \u001b[38;5;241m=\u001b[39m \u001b[38;5;241m0\u001b[39m \u001b[38;5;241m+\u001b[39m \u001b[38;5;241m16\u001b[39m\u001b[38;5;241m*\u001b[39m\u001b[38;5;241m0\u001b[39m\n\u001b[0;32m----> 5\u001b[0m num_per_thread \u001b[38;5;241m=\u001b[39m \u001b[43mmax_pages\u001b[49m\u001b[38;5;241;43m/\u001b[39;49m\u001b[38;5;241;43m/\u001b[39;49m\u001b[43mcount_thread\u001b[49m\n\u001b[1;32m      6\u001b[0m page_last \u001b[38;5;241m=\u001b[39m max_pages\u001b[38;5;241m%\u001b[39mcount_thread\n\u001b[1;32m      7\u001b[0m all_thread \u001b[38;5;241m=\u001b[39m [\u001b[38;5;28;01mNone\u001b[39;00m]\u001b[38;5;241m*\u001b[39mcount_thread\n",
      "\u001b[0;31mTypeError\u001b[0m: ufunc 'floor_divide' not supported for the input types, and the inputs could not be safely coerced to any supported types according to the casting rule ''safe''"
     ]
    }
   ],
   "source": [
    "max_pages = save_link\n",
    "count_thread = int(160*2)\n",
    "per_vm = 16\n",
    "vm_number = 0 + 16*0\n",
    "num_per_thread = max_pages//count_thread\n",
    "page_last = max_pages%count_thread\n",
    "all_thread = [None]*count_thread\n",
    "code_question = [None]*count_thread\n",
    "code_answer = [None]*count_thread\n",
    "webs = \"https://stackoverflow.com/\"\n",
    "hours = 10\n",
    "minute = 30"
   ]
  },
  {
   "cell_type": "code",
   "execution_count": 5,
   "metadata": {},
   "outputs": [],
   "source": [
    "def save_code_question_answer_all_data(code_question,code_answer,start,stop,number_thread):\n",
    "    try:\n",
    "        count = 0\n",
    "        code_answer_in_link = []\n",
    "        code_question_in_link = []\n",
    "        for i in save_link[start:stop]:\n",
    "            url = \"https://stackoverflow.com/\" + i\n",
    "            from selenium import webdriver \n",
    "            from selenium.webdriver.chrome.service import Service as ChromeService \n",
    "            from webdriver_manager.chrome import ChromeDriverManager \n",
    "            \n",
    "            options = webdriver.ChromeOptions() #newly added \n",
    "            options.headless = True #newly added \n",
    "            while True:\n",
    "                with webdriver.Chrome(service=ChromeService(ChromeDriverManager().install()), options=options) as driver: #modified \n",
    "                    stealth(driver,\n",
    "                    languages=[\"en-US\", \"en\"],\n",
    "                    vendor=\"Google Inc.\",\n",
    "                    platform=\"Win32\",\n",
    "                    webgl_vendor=\"Intel Inc.\",\n",
    "                    renderer=\"Intel Iris OpenGL Engine\",\n",
    "                    fix_hairline=True,\n",
    "                    )\n",
    "                    driver.get(url)\n",
    "                    #print(\"Page URL:\", driver.current_url) \n",
    "                    #print(\"Page Title:\", driver.title)\n",
    "                    answers = driver.find_elements(By.XPATH, \"//div[@id='answers']//code\")\n",
    "                    questions = driver.find_elements(By.CLASS_NAME,'question-hyperlink')\n",
    "                    #print(answers[0].text)\n",
    "                    if (driver.title != \"Just a moment...\") and (len(questions) > 0) and (len(answers) > 0) :\n",
    "                        answers_in_link = []\n",
    "                        for j in answers:\n",
    "                            answers_in_link.append(j.text)\n",
    "                        code_answer_in_link.append(answers_in_link)\n",
    "                        code_question_in_link.append(questions[0].text)\n",
    "                        break\n",
    "                    else:\n",
    "                        pass\n",
    "            count += 1\n",
    "            if count%10 == 0:\n",
    "                print(f\"Thread{number_thread}:count : {count}\")\n",
    "                print(f\"all_count : {all_count}\")\n",
    "                print(\"*\"*20)\n",
    "        code_answer[number_thread] = code_answer_in_link\n",
    "        code_question[number_thread] = code_question_in_link\n",
    "        print(f\"thread : {number_thread} finish\")\n",
    "    except KeyError as err:\n",
    "        print(f\"thread : {number_thread} error\\n{err}\")"
   ]
  },
  {
   "cell_type": "code",
   "execution_count": 6,
   "metadata": {},
   "outputs": [
    {
     "ename": "NameError",
     "evalue": "name 'page_last' is not defined",
     "output_type": "error",
     "traceback": [
      "\u001b[0;31m---------------------------------------------------------------------------\u001b[0m",
      "\u001b[0;31mNameError\u001b[0m                                 Traceback (most recent call last)",
      "Cell \u001b[0;32mIn[6], line 1\u001b[0m\n\u001b[0;32m----> 1\u001b[0m li \u001b[38;5;241m=\u001b[39m (\u001b[43mpage_last\u001b[49m \u001b[38;5;241m-\u001b[39m \u001b[38;5;241m1\u001b[39m)\n\u001b[1;32m      2\u001b[0m \u001b[38;5;28;01mfor\u001b[39;00m i \u001b[38;5;129;01min\u001b[39;00m \u001b[38;5;28mrange\u001b[39m(vm_number\u001b[38;5;241m*\u001b[39mper_vm,(vm_number\u001b[38;5;241m+\u001b[39m\u001b[38;5;241m1\u001b[39m)\u001b[38;5;241m*\u001b[39mper_vm):\n\u001b[1;32m      3\u001b[0m     \u001b[38;5;28;01mif\u001b[39;00m i \u001b[38;5;241m<\u001b[39m page_last:\n",
      "\u001b[0;31mNameError\u001b[0m: name 'page_last' is not defined"
     ]
    }
   ],
   "source": [
    "li = (page_last - 1)\n",
    "for i in range(vm_number*per_vm,(vm_number+1)*per_vm):\n",
    "    if i < page_last:\n",
    "        all_thread[i] = threading.Thread(target=save_code_question_answer_all_data,args=(code_question,code_answer,i*num_per_thread + i*(1),(i+1)*num_per_thread + (i+1)*1,i))\n",
    "        print(i*num_per_thread + i*(1),(i+1)*num_per_thread + (i+1)*1,i)\n",
    "    elif page_last == 0:\n",
    "        all_thread[i] = threading.Thread(target=save_code_question_answer_all_data,args=(code_question,code_answer,i*num_per_thread,(i+1)*num_per_thread,i))\n",
    "        print(i*num_per_thread,(i+1)*num_per_thread,i)\n",
    "    else:\n",
    "        all_thread[i] = threading.Thread(target=save_code_question_answer_all_data,args=(code_question,code_answer,i*num_per_thread + (li+1)*(1),(i+1)*num_per_thread + (li+1)*1,i))\n",
    "        print(i*num_per_thread + (li+1)*(1),(i+1)*num_per_thread + (li+1)*1,i)"
   ]
  },
  {
   "cell_type": "code",
   "execution_count": null,
   "metadata": {},
   "outputs": [],
   "source": [
    "for i in range(vm_number*per_vm,(vm_number+1)*per_vm):\n",
    "    all_thread[i].start()\n",
    "for i in range(vm_number*per_vm,(vm_number+1)*per_vm):\n",
    "    all_thread[i].join()"
   ]
  },
  {
   "cell_type": "code",
   "execution_count": null,
   "metadata": {},
   "outputs": [],
   "source": [
    "with open(f\"questions_data_python_stackoverflow_{vm_number}\",'wb') as f:\n",
    "    pickle.dump(code_question,f)"
   ]
  },
  {
   "cell_type": "code",
   "execution_count": null,
   "metadata": {},
   "outputs": [],
   "source": [
    "with open(f\"answers_data_python_stackoverflow_{vm_number}\",'wb') as f:\n",
    "    pickle.dump(code_answer,f)"
   ]
  }
 ],
 "metadata": {
  "kernelspec": {
   "display_name": "pytorch",
   "language": "python",
   "name": "python3"
  },
  "language_info": {
   "codemirror_mode": {
    "name": "ipython",
    "version": 3
   },
   "file_extension": ".py",
   "mimetype": "text/x-python",
   "name": "python",
   "nbconvert_exporter": "python",
   "pygments_lexer": "ipython3",
   "version": "3.10.12"
  }
 },
 "nbformat": 4,
 "nbformat_minor": 2
}
