{
 "cells": [
  {
   "cell_type": "code",
   "execution_count": 1,
   "metadata": {},
   "outputs": [],
   "source": [
    "from bs4 import BeautifulSoup\n",
    "from urllib.request import urlopen\n",
    "import requests\n",
    "import csv\n",
    "import time\n",
    "import re\n",
    "import urllib\n",
    "import json\n",
    "import numpy as np\n",
    "import threading\n",
    "from tqdm import tqdm\n",
    "import pickle\n",
    "import cloudscraper\n",
    "from selenium import webdriver \n",
    "from selenium.webdriver.chrome.service import Service as ChromeService \n",
    "from webdriver_manager.chrome import ChromeDriverManager \n",
    "from selenium.webdriver.common.by import By\n",
    "from selenium_stealth import stealth"
   ]
  },
  {
   "cell_type": "code",
   "execution_count": 2,
   "metadata": {},
   "outputs": [],
   "source": [
    "with open(f\"../use_link_load_data_0_1000000/link_data_stack_overflow_python_0_200000.pickle\", \"rb\") as f:\n",
    "    save_link = pickle.load(f)"
   ]
  },
  {
   "cell_type": "code",
   "execution_count": 4,
   "metadata": {},
   "outputs": [],
   "source": [
    "max_pages = 24\n",
    "count_thread = 8\n",
    "per_vm = 8\n",
    "vm_number = 0 + 10*0\n",
    "num_per_thread = max_pages//count_thread\n",
    "page_last = max_pages%count_thread\n",
    "all_thread = [None]*count_thread\n",
    "code_question = [None]*count_thread\n",
    "code_answer = [None]*count_thread\n",
    "webs = \"https://stackoverflow.com/\"\n",
    "hours = 10\n",
    "minute = 30"
   ]
  },
  {
   "cell_type": "code",
   "execution_count": 5,
   "metadata": {},
   "outputs": [],
   "source": [
    "def save_code_question_answer_all_data(code_question,code_answer,start,stop,number_thread):\n",
    "    try:\n",
    "        st = time.time()\n",
    "        count = 0\n",
    "        code_answer_in_link = []\n",
    "        code_question_in_link = []\n",
    "        for i in save_link[start:stop]:\n",
    "            url = \"https://stackoverflow.com/\" + i\n",
    "            from selenium import webdriver \n",
    "            from selenium.webdriver.chrome.service import Service as ChromeService \n",
    "            from webdriver_manager.chrome import ChromeDriverManager \n",
    "            \n",
    "            options = webdriver.ChromeOptions() #newly added \n",
    "            options.headless = True #newly added \n",
    "            while True:\n",
    "                with webdriver.Chrome(service=ChromeService(ChromeDriverManager().install()), options=options) as driver: #modified \n",
    "                    stealth(driver,\n",
    "                    languages=[\"en-US\", \"en\"],\n",
    "                    vendor=\"Google Inc.\",\n",
    "                    platform=\"Win32\",\n",
    "                    webgl_vendor=\"Intel Inc.\",\n",
    "                    renderer=\"Intel Iris OpenGL Engine\",\n",
    "                    fix_hairline=True,\n",
    "                    )\n",
    "                    driver.get(url)\n",
    "                    #print(\"Page URL:\", driver.current_url) \n",
    "                    #print(\"Page Title:\", driver.title)\n",
    "                    answers = driver.find_elements(By.XPATH, \"//div[@id='answers']//code\")\n",
    "                    questions = driver.find_elements(By.CLASS_NAME,'question-hyperlink')\n",
    "                    #print(answers[0].text)\n",
    "                    if (driver.title != \"Just a moment...\") and (len(questions) > 0) and (len(answers) > 0) :\n",
    "                        answers_in_link = []\n",
    "                        for j in answers:\n",
    "                            answers_in_link.append(j.text)\n",
    "                        code_answer_in_link.append(answers_in_link)\n",
    "                        code_question_in_link.append(questions[0].text)\n",
    "                        break\n",
    "                    else:\n",
    "                        pass\n",
    "            count += 1\n",
    "            if count%10 == 0:\n",
    "                print(f\"Thread{number_thread}:count : {count}\")\n",
    "                print(\"*\"*20)\n",
    "        code_answer[number_thread] = code_answer_in_link\n",
    "        code_question[number_thread] = code_question_in_link\n",
    "        print(f\"thread : {number_thread} finish\")\n",
    "        print(time.time()-st,\"sec\")\n",
    "        print(\"*\"*20)\n",
    "    except KeyError as err:\n",
    "        print(f\"thread : {number_thread} error\\n{err}\")"
   ]
  },
  {
   "cell_type": "code",
   "execution_count": 6,
   "metadata": {},
   "outputs": [
    {
     "name": "stdout",
     "output_type": "stream",
     "text": [
      "0 3 0\n",
      "3 6 1\n",
      "6 9 2\n",
      "9 12 3\n",
      "12 15 4\n",
      "15 18 5\n",
      "18 21 6\n",
      "21 24 7\n"
     ]
    }
   ],
   "source": [
    "li = (page_last - 1)\n",
    "for i in range(vm_number*per_vm,(vm_number+1)*per_vm):\n",
    "    if i < page_last:\n",
    "        all_thread[i] = threading.Thread(target=save_code_question_answer_all_data,args=(code_question,code_answer,i*num_per_thread + i*(1),(i+1)*num_per_thread + (i+1)*1,i))\n",
    "        print(i*num_per_thread + i*(1),(i+1)*num_per_thread + (i+1)*1,i)\n",
    "    elif page_last == 0:\n",
    "        all_thread[i] = threading.Thread(target=save_code_question_answer_all_data,args=(code_question,code_answer,i*num_per_thread,(i+1)*num_per_thread,i))\n",
    "        print(i*num_per_thread,(i+1)*num_per_thread,i)\n",
    "    else:\n",
    "        all_thread[i] = threading.Thread(target=save_code_question_answer_all_data,args=(code_question,code_answer,i*num_per_thread + (li+1)*(1),(i+1)*num_per_thread + (li+1)*1,i))\n",
    "        print(i*num_per_thread + (li+1)*(1),(i+1)*num_per_thread + (li+1)*1,i)"
   ]
  },
  {
   "cell_type": "code",
   "execution_count": 7,
   "metadata": {},
   "outputs": [
    {
     "name": "stdout",
     "output_type": "stream",
     "text": [
      "thread : 5 finish\n",
      "23.25523591041565 sec\n",
      "********************\n",
      "thread : 6 finish\n",
      "26.651387214660645 sec\n",
      "********************\n",
      "thread : 2 finish\n",
      "28.220577716827393 sec\n",
      "********************\n",
      "thread : 7 finish\n",
      "28.66622233390808 sec\n",
      "********************\n",
      "thread : 4 finish\n",
      "28.85326075553894 sec\n",
      "********************\n",
      "thread : 3 finish\n",
      "30.159202814102173 sec\n",
      "********************\n",
      "thread : 1 finish\n",
      "30.436578035354614 sec\n",
      "********************\n",
      "thread : 0 finish\n",
      "36.004334926605225 sec\n",
      "********************\n"
     ]
    }
   ],
   "source": [
    "for i in range(vm_number*per_vm,(vm_number+1)*per_vm):\n",
    "    all_thread[i].start()\n",
    "for i in range(vm_number*per_vm,(vm_number+1)*per_vm):\n",
    "    all_thread[i].join()"
   ]
  },
  {
   "cell_type": "code",
   "execution_count": 14,
   "metadata": {},
   "outputs": [
    {
     "data": {
      "text/plain": [
       "'yield'"
      ]
     },
     "execution_count": 14,
     "metadata": {},
     "output_type": "execute_result"
    }
   ],
   "source": [
    "code_answer[0][0][0]"
   ]
  },
  {
   "cell_type": "code",
   "execution_count": 16,
   "metadata": {},
   "outputs": [
    {
     "data": {
      "text/plain": [
       "'What does the \"yield\" keyword do in Python?'"
      ]
     },
     "execution_count": 16,
     "metadata": {},
     "output_type": "execute_result"
    }
   ],
   "source": [
    "code_question[0][0]"
   ]
  },
  {
   "cell_type": "code",
   "execution_count": 17,
   "metadata": {},
   "outputs": [],
   "source": [
    "with open(f\"questions_data_python_stackoverflow_{vm_number}\",'wb') as f:\n",
    "    pickle.dump(code_question,f)"
   ]
  },
  {
   "cell_type": "code",
   "execution_count": 18,
   "metadata": {},
   "outputs": [],
   "source": [
    "with open(f\"answers_data_python_stackoverflow_{vm_number}\",'wb') as f:\n",
    "    pickle.dump(code_answer,f)"
   ]
  },
  {
   "cell_type": "code",
   "execution_count": 19,
   "metadata": {},
   "outputs": [],
   "source": [
    "with open(f\"questions_data_python_stackoverflow_{vm_number}\",'rb') as f:\n",
    "    ll = pickle.load(f)"
   ]
  },
  {
   "cell_type": "code",
   "execution_count": 26,
   "metadata": {},
   "outputs": [
    {
     "data": {
      "text/plain": [
       "'What does the \"yield\" keyword do in Python?'"
      ]
     },
     "execution_count": 26,
     "metadata": {},
     "output_type": "execute_result"
    }
   ],
   "source": [
    "ll[0][0]"
   ]
  },
  {
   "cell_type": "code",
   "execution_count": 22,
   "metadata": {},
   "outputs": [],
   "source": [
    "with open(f\"answers_data_python_stackoverflow_{vm_number}\",'rb') as f:\n",
    "    cc = pickle.load(f)"
   ]
  },
  {
   "cell_type": "code",
   "execution_count": 25,
   "metadata": {},
   "outputs": [
    {
     "data": {
      "text/plain": [
       "454"
      ]
     },
     "execution_count": 25,
     "metadata": {},
     "output_type": "execute_result"
    }
   ],
   "source": [
    "len(cc[0][0])"
   ]
  },
  {
   "cell_type": "code",
   "execution_count": null,
   "metadata": {},
   "outputs": [],
   "source": []
  }
 ],
 "metadata": {
  "kernelspec": {
   "display_name": "pytorch",
   "language": "python",
   "name": "python3"
  },
  "language_info": {
   "codemirror_mode": {
    "name": "ipython",
    "version": 3
   },
   "file_extension": ".py",
   "mimetype": "text/x-python",
   "name": "python",
   "nbconvert_exporter": "python",
   "pygments_lexer": "ipython3",
   "version": "3.10.12"
  }
 },
 "nbformat": 4,
 "nbformat_minor": 2
}
