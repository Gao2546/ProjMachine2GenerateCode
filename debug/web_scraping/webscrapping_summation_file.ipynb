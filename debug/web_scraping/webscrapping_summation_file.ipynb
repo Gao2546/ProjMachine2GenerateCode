{
 "cells": [
  {
   "cell_type": "code",
   "execution_count": 5,
   "metadata": {},
   "outputs": [],
   "source": [
    "from bs4 import BeautifulSoup\n",
    "from urllib.request import urlopen\n",
    "import requests\n",
    "import csv\n",
    "import time\n",
    "import re\n",
    "import urllib\n",
    "import json\n",
    "import numpy as np\n",
    "import threading\n",
    "from tqdm import tqdm\n",
    "import pickle\n",
    "import os"
   ]
  },
  {
   "cell_type": "code",
   "execution_count": 20,
   "metadata": {},
   "outputs": [],
   "source": [
    "file_list = os.listdir(path='link_colab')"
   ]
  },
  {
   "cell_type": "code",
   "execution_count": 40,
   "metadata": {},
   "outputs": [],
   "source": [
    "file_list_sort = []\n",
    "for i_i in range(int(len(file_list)/2)):\n",
    "    for i_j in range(len(file_list)):\n",
    "        if (file_list[i_j].split('_')[0] == 'link') and (file_list[i_j]).split('_')[5] == str(16*i_i):\n",
    "            file_list_sort.append(file_list[i_j])\n",
    "for i_i in range(int(len(file_list)/2)):\n",
    "    for i_j in range(len(file_list)):\n",
    "        if (file_list[i_j].split('_')[0] == 'status') and (file_list[i_j]).split('_')[6] == str(16*i_i):\n",
    "            file_list_sort.append(file_list[i_j])"
   ]
  },
  {
   "cell_type": "code",
   "execution_count": 41,
   "metadata": {},
   "outputs": [
    {
     "data": {
      "text/plain": [
       "['link_data_stack_overflow_python_0_16.pickle',\n",
       " 'link_data_stack_overflow_python_16_32.pickle',\n",
       " 'link_data_stack_overflow_python_32_48.pickle',\n",
       " 'link_data_stack_overflow_python_48_64.pickle',\n",
       " 'link_data_stack_overflow_python_64_80.pickle',\n",
       " 'link_data_stack_overflow_python_80_96.pickle',\n",
       " 'link_data_stack_overflow_python_96_112.pickle',\n",
       " 'link_data_stack_overflow_python_112_128.pickle',\n",
       " 'link_data_stack_overflow_python_128_144.pickle',\n",
       " 'link_data_stack_overflow_python_144_160.pickle',\n",
       " 'link_data_stack_overflow_python_160_176.pickle',\n",
       " 'link_data_stack_overflow_python_176_192.pickle',\n",
       " 'link_data_stack_overflow_python_192_208.pickle',\n",
       " 'link_data_stack_overflow_python_208_224.pickle',\n",
       " 'status_link_data_stack_overflow_python_0_16.pickle',\n",
       " 'status_link_data_stack_overflow_python_16_32.pickle',\n",
       " 'status_link_data_stack_overflow_python_32_48.pickle',\n",
       " 'status_link_data_stack_overflow_python_48_64.pickle',\n",
       " 'status_link_data_stack_overflow_python_64_80.pickle',\n",
       " 'status_link_data_stack_overflow_python_80_96.pickle',\n",
       " 'status_link_data_stack_overflow_python_96_112.pickle',\n",
       " 'status_link_data_stack_overflow_python_112_128.pickle',\n",
       " 'status_link_data_stack_overflow_python_128_144.pickle',\n",
       " 'status_link_data_stack_overflow_python_144_160.pickle',\n",
       " 'status_link_data_stack_overflow_python_160_176.pickle',\n",
       " 'status_link_data_stack_overflow_python_176_192.pickle',\n",
       " 'status_link_data_stack_overflow_python_192_208.pickle',\n",
       " 'status_link_data_stack_overflow_python_208_224.pickle']"
      ]
     },
     "execution_count": 41,
     "metadata": {},
     "output_type": "execute_result"
    }
   ],
   "source": [
    "file_list_sort"
   ]
  },
  {
   "cell_type": "code",
   "execution_count": null,
   "metadata": {},
   "outputs": [],
   "source": []
  },
  {
   "cell_type": "code",
   "execution_count": 42,
   "metadata": {},
   "outputs": [],
   "source": [
    "all_link_form_file = []\n",
    "all_status_form_file = []"
   ]
  },
  {
   "cell_type": "code",
   "execution_count": 49,
   "metadata": {},
   "outputs": [
    {
     "name": "stdout",
     "output_type": "stream",
     "text": [
      "156000\n",
      "155198\n",
      "--------------\n"
     ]
    },
    {
     "ename": "IndexError",
     "evalue": "index 155199 is out of bounds for axis 0 with size 155198",
     "output_type": "error",
     "traceback": [
      "\u001b[0;31m---------------------------------------------------------------------------\u001b[0m",
      "\u001b[0;31mIndexError\u001b[0m                                Traceback (most recent call last)",
      "Cell \u001b[0;32mIn[49], line 14\u001b[0m\n\u001b[1;32m     12\u001b[0m     \u001b[38;5;28;01mif\u001b[39;00m load_file_link[num_link] \u001b[38;5;129;01mnot\u001b[39;00m \u001b[38;5;129;01min\u001b[39;00m all_link_form_file:\n\u001b[1;32m     13\u001b[0m         all_link_form_file\u001b[38;5;241m.\u001b[39mappend(load_file_link[num_link])\n\u001b[0;32m---> 14\u001b[0m         all_status_form_file\u001b[38;5;241m.\u001b[39mappend(\u001b[43mload_file_status\u001b[49m\u001b[43m[\u001b[49m\u001b[43mnum_link\u001b[49m\u001b[43m]\u001b[49m)\n\u001b[1;32m     15\u001b[0m f_link\u001b[38;5;241m.\u001b[39mclose()\n",
      "\u001b[0;31mIndexError\u001b[0m: index 155199 is out of bounds for axis 0 with size 155198"
     ]
    }
   ],
   "source": [
    "file_all = file_list_sort\n",
    "link_colab = 'link_colab/'\n",
    "for num_file in range(int(len(file_all)/2)):\n",
    "    with open(link_colab+file_all[num_file], \"rb\") as f:\n",
    "        load_file_link = pickle.load(f)\n",
    "        f_link = open(link_colab+file_all[num_file+12],'rb')\n",
    "        load_file_status = pickle.load(f_link)\n",
    "        print(len(load_file_link))\n",
    "        print(len(load_file_status))\n",
    "        print(\"--------------\")\n",
    "        for num_link in range(len(load_file_link)):\n",
    "            if load_file_link[num_link] not in all_link_form_file:\n",
    "                all_link_form_file.append(load_file_link[num_link])\n",
    "                all_status_form_file.append(load_file_status[num_link])\n",
    "        f_link.close()"
   ]
  },
  {
   "cell_type": "code",
   "execution_count": null,
   "metadata": {},
   "outputs": [],
   "source": [
    "all_link_form_file_array = np.array(all_link_form_file)\n",
    "all_status_form_file_array = np.array(all_status_form_file)"
   ]
  },
  {
   "cell_type": "code",
   "execution_count": null,
   "metadata": {},
   "outputs": [],
   "source": [
    "with open(f\"link_data_stack_overflow_python_{len(all_link_form_file)}.pickle\", \"wb\") as f:\n",
    "    pickle.dump(all_link_form_file_array, f, protocol=pickle.HIGHEST_PROTOCOL)"
   ]
  },
  {
   "cell_type": "code",
   "execution_count": null,
   "metadata": {},
   "outputs": [],
   "source": [
    "with open(f\"status_data_stack_overflow_python_{all_status_form_file}.pickle\", \"wb\") as f:\n",
    "    pickle.dump(all_status_form_file_array, f, protocol=pickle.HIGHEST_PROTOCOL)"
   ]
  }
 ],
 "metadata": {
  "kernelspec": {
   "display_name": "pytorch",
   "language": "python",
   "name": "python3"
  },
  "language_info": {
   "codemirror_mode": {
    "name": "ipython",
    "version": 3
   },
   "file_extension": ".py",
   "mimetype": "text/x-python",
   "name": "python",
   "nbconvert_exporter": "python",
   "pygments_lexer": "ipython3",
   "version": "3.10.12"
  }
 },
 "nbformat": 4,
 "nbformat_minor": 2
}
